{
  "nbformat": 4,
  "nbformat_minor": 0,
  "metadata": {
    "colab": {
      "name": "SNA-DS PW GDL n.2 Appalti ANAC CSV MAGGIO 2022.ipynb",
      "provenance": [],
      "collapsed_sections": [],
      "private_outputs": true
    },
    "kernelspec": {
      "name": "python3",
      "display_name": "Python 3"
    },
    "language_info": {
      "name": "python"
    },
    "gpuClass": "standard"
  },
  "cells": [
    {
      "cell_type": "markdown",
      "metadata": {
        "id": "nxvASW5RFNYf"
      },
      "source": [
        "# Project Work n.2\n",
        "\n",
        "---\n",
        "\n",
        "\n",
        "# Corso Diploma di Esperto di Data Science presso Scuola Nazionale dell'Amministrazione (SNA)\n",
        "# GdL: Patrizia Mazzucchi, Maurizio D'Amato\n",
        "\n",
        "\n",
        "---\n",
        "\n",
        "\n",
        "##TRACCIA\n",
        "Project work sulla acquisizione di una base di dati (da pulire, ordinare,inquadrare) usabile per la produzione di statistiche\n",
        "Visitare il seguente sito: https://dati.anticorruzione.it/opendata/dataset/ocds-appalti-ordinari-2022\n",
        "Scaricare a scelta uno dei dataset linkati (la relativa documentazione di formato è disponibile all’URL https://dati.anticorruzione.it/opendata/ocds_it )\n",
        "Produrre uno script in Python o R che :\n",
        "- evidenzi la presenza di eventuali valori scorretti nei dati (es.: data fine lavori precedente data inizio, appalti senza descrizione o titolo, valori fuori scala, ecc.);\n",
        "- produca statistiche di tipo descrittivo sui dati (es.: distribuzione degli importi, distribuzione dei bandi e degli importi per fornitore, ecc.);\n",
        "- produca grafici di sintesi sui fenomeni ritenuti di maggiore interesse.\n",
        "Confrontare i risultati ottenuti con i medesimi relativi al mese precedente quello di riferimento inizialmente scelto.\n",
        "Per un supporto nell’accesso, uso e/o il trattamento delle basi di dati scrivere al dott. Alessio Cimarelli: alessio@dataninja.it.\n"
      ]
    },
    {
      "cell_type": "markdown",
      "source": [
        "Importo le librerie che mi servono e imposto le configurazioni globali:\n",
        "per leggere e scrivere csv e json\n",
        "- [pandas](https://pandas.pydata.org/) per la manipolazione e l'analisi dei dati\n",
        "- [matplotlib](https://matplotlib.org/) per la configurazione dei grafici"
      ],
      "metadata": {
        "id": "cxiBEuffN0D8"
      }
    },
    {
      "cell_type": "code",
      "metadata": {
        "id": "gYaNIFA4I7oY"
      },
      "source": [
        "# librerie standard \n",
        "import csv\n",
        "#import json\n",
        "import numpy as np\n",
        "import pandas as pd\n",
        "import matplotlib.pyplot as plt\n",
        "import pylab as pl\n",
        "#plt.style.use(\"ggplot\")"
      ],
      "execution_count": null,
      "outputs": []
    },
    {
      "cell_type": "markdown",
      "metadata": {
        "id": "ORrkPBROFedS"
      },
      "source": [
        "Scarico e importo su google drive dal sito [ANAC](https://dati.anticorruzione.it/opendata/ocds_it) il dataset csv [CIG_csv_2022_05](https://dati.anticorruzione.it/opendata/dataset/cig-2022/resource/0df8a602-8cfd-4598-be61-0f854bb5aab3) che contiene tutte le informazioni relative agli appalti ordinari pubblicati comunicati nel Maggio 2022, per cui è stato emesso un codice CIG. \n"
      ]
    },
    {
      "cell_type": "code",
      "source": [
        "#from google.colab import drive\n",
        "#drive.mount('/content/drive')"
      ],
      "metadata": {
        "id": "PFKaiwR9mvPW"
      },
      "execution_count": null,
      "outputs": []
    },
    {
      "cell_type": "code",
      "source": [
        "!pip install -U -q PyDrive\n",
        "\n",
        "from pydrive.auth import GoogleAuth\n",
        "from pydrive.drive import GoogleDrive\n",
        "from google.colab import auth\n",
        "from oauth2client.client import GoogleCredentials\n",
        "\n",
        "\n",
        "# Authenticate and create the PyDrive client.\n",
        "auth.authenticate_user()\n",
        "gauth = GoogleAuth()\n",
        "gauth.credentials = GoogleCredentials.get_application_default()\n",
        "drive = GoogleDrive(gauth)"
      ],
      "metadata": {
        "id": "Qf-tZpJrszX9"
      },
      "execution_count": null,
      "outputs": []
    },
    {
      "cell_type": "code",
      "source": [
        "link = 'https://drive.google.com/file/d/1PSsBdc5McG3pPIlCqVNMXk1CzSMTnMNA/view?usp=sharing'\n",
        "\n",
        "# to get the id part of the file\n",
        "id = link.split(\"/\")[-2]\n",
        "#scarico il file da google drive\n",
        "downloaded = drive.CreateFile({'id':id})\n",
        "downloaded.GetContentFile('cig_csv_2022_05.csv')\n",
        "\n",
        "#leggo il file e lo metto in un dataframe\n",
        "df = pd.read_csv('cig_csv_2022_05.csv', sep=';')"
      ],
      "metadata": {
        "id": "uU7JuAdPtJ61"
      },
      "execution_count": null,
      "outputs": []
    },
    {
      "cell_type": "markdown",
      "source": [
        "#**DATA EXPLORATION, PRE-PROCESSING (DATA CLEANING , DATA REDUCTION): **\n",
        "lo scopo è di individuare dati mancanti, outliers e pre-processare / trasformare alcune feature. Nonchè mettere da parte dati che non sono rilevanti per lo scopo.\n",
        "Raccolgo un po' di informazioni sul dataset, caricato sul dataframe lo faccio con alcune funzioni utili come *head* *info* e *describe*"
      ],
      "metadata": {
        "id": "xgaNVk0jNPN5"
      }
    },
    {
      "cell_type": "code",
      "source": [
        "# utlizziamo la funzione head per iniziare la fase di analisi e pulitura del dataset\n",
        "df.head()"
      ],
      "metadata": {
        "id": "lzhCTNRwLpNY"
      },
      "execution_count": null,
      "outputs": []
    },
    {
      "cell_type": "code",
      "source": [
        "# utlizziamo la funzione info per iniziare la fase di analisi e pulitura del dataset\n",
        "df.info()\n"
      ],
      "metadata": {
        "id": "NKyp0O9cjDUF"
      },
      "execution_count": null,
      "outputs": []
    },
    {
      "cell_type": "code",
      "source": [
        "# verifichiamo che lo stato sia per tutti attivo\n",
        "df.stato.unique()\n"
      ],
      "metadata": {
        "id": "qd55q0POcPTd"
      },
      "execution_count": null,
      "outputs": []
    },
    {
      "cell_type": "markdown",
      "source": [
        "dalla funzione *info* si può dedurre che alcune colonne hanno parecchi valori nulli (*cig_accordo_quadro, luogo_istat, provincia*), si stabilisce quindi di eliminarli dal nostro dataframe da analizzare in quanto non utili all'obiettivo.\n",
        "anno_pubblicazione mese_pubblicazione codice_ausa cod_cpv descrizione_cpv flag_prevalente non sono rilevanti, li cancelliamo"
      ],
      "metadata": {
        "id": "CZX0Rex7P0gq"
      }
    },
    {
      "cell_type": "code",
      "source": [
        "# forziamo il tipo dato degli importi ad intero, erano float \n",
        "df.importo_lotto = df.importo_lotto.astype(int)\n",
        "df.importo_complessivo_gara = df.importo_complessivo_gara.astype(int)\n",
        "df.info()"
      ],
      "metadata": {
        "id": "LzSATRuF6tGS"
      },
      "execution_count": null,
      "outputs": []
    },
    {
      "cell_type": "code",
      "source": [
        "# Cancelliamo le colonne che non riteniamo utili, le province non sono tutte valorizzate, ci basiamo sulle regioni\n",
        "df.drop(['cig_accordo_quadro', 'luogo_istat', 'provincia', 'anno_pubblicazione','mese_pubblicazione','codice_ausa','cod_cpv','descrizione_cpv','flag_prevalente'], axis = 1, inplace = True)\n",
        "df.info()"
      ],
      "metadata": {
        "id": "JcnqgGQ2RCdR"
      },
      "execution_count": null,
      "outputs": []
    },
    {
      "cell_type": "markdown",
      "source": [
        "ora abbiamo solo 21 colonne/feature delle 30 iniziali. Volendo soffermarci sulla suddivisione regionale analizzo la colonne *sezione_regionale*"
      ],
      "metadata": {
        "id": "ie2-FunagbW8"
      }
    },
    {
      "cell_type": "code",
      "source": [
        "#verifichiamo i differenti valori nella sezione regionale\n",
        "df.sezione_regionale.unique()"
      ],
      "metadata": {
        "id": "yKzOLJrN9v8e"
      },
      "execution_count": null,
      "outputs": []
    },
    {
      "cell_type": "code",
      "source": [
        "# analizziamo i valori nulli\n",
        "regioni_mancanti = pd.isnull(df['sezione_regionale'])\n",
        "\n",
        "df[regioni_mancanti]\n"
      ],
      "metadata": {
        "id": "OB47W7TeW7E0"
      },
      "execution_count": null,
      "outputs": []
    },
    {
      "cell_type": "markdown",
      "source": [
        "analizziamo nel dettaglio la feature \"sezione regionale\" con l'obiettivo di visualizzare i contratti suddivisi per regione. Dalla funzione info vediamo che mancano 12  valori (31929-31917=12). Visualizziamoli e cancelliamo le occorrenze che non sono valorizzate."
      ],
      "metadata": {
        "id": "03XWuXQwWaMa"
      }
    },
    {
      "cell_type": "code",
      "source": [
        " # cancelliamo solo le righe che hanno valori nulli nella colonna \"sezione_regionale\" con il metodo dropna\n",
        "df.dropna(subset=['sezione_regionale'], inplace=True)\n",
        "df.info()"
      ],
      "metadata": {
        "id": "qRftk6h1b7Nz"
      },
      "execution_count": null,
      "outputs": []
    },
    {
      "cell_type": "markdown",
      "source": [
        "abbiamo ora 21 colonne e 31.917 righe delle 31.929 iniziali. verifichiamo che l'operazione sia andata a buon fine. "
      ],
      "metadata": {
        "id": "fZVZtfXRhWi2"
      }
    },
    {
      "cell_type": "code",
      "source": [
        "# contolliamo che non ci siano record con valori nulli nel campo sezione_regionale\n",
        "regioni_mancanti = pd.isnull(df['sezione_regionale'])\n",
        "df[regioni_mancanti]"
      ],
      "metadata": {
        "id": "d5moPH8BhKVa"
      },
      "execution_count": null,
      "outputs": []
    },
    {
      "cell_type": "code",
      "source": [
        "df['sezione_regionale'].describe()"
      ],
      "metadata": {
        "id": "7JlLJB7nVacC"
      },
      "execution_count": null,
      "outputs": []
    },
    {
      "cell_type": "markdown",
      "source": [
        "Dalla funzione describe() emerge che la sezione regionale che ha più contratti nel mese di maggio 2022 è quella piemontese con 5.646 contratti/lotti attivi."
      ],
      "metadata": {
        "id": "rL6DRZvC7Y6z"
      }
    },
    {
      "cell_type": "code",
      "source": [
        "# visualizziamo le occorrenze con sezione_regionale = \"NON CLASSIFICATO\", sono 813\n",
        "regioni_NC=df['sezione_regionale']=='NON CLASSIFICATO'\n",
        "df[regioni_NC]"
      ],
      "metadata": {
        "id": "6sw8gidY_BY9"
      },
      "execution_count": null,
      "outputs": []
    },
    {
      "cell_type": "code",
      "source": [
        "# elimino le occorrenze con sezione_regionale = \"NON CLASSIFICATO\"\n",
        "df = df.drop(df[df.sezione_regionale == \"NON CLASSIFICATO\"].index)"
      ],
      "metadata": {
        "id": "iBq8QzT4FOC3"
      },
      "execution_count": null,
      "outputs": []
    },
    {
      "cell_type": "code",
      "source": [
        "#verifichiamo che non esistano piu' i valori nulli e \"NON CLASSIFICATO\"\n",
        "df['sezione_regionale'].unique()"
      ],
      "metadata": {
        "id": "n9M_A8XbZe3c"
      },
      "execution_count": null,
      "outputs": []
    },
    {
      "cell_type": "code",
      "source": [
        "#le occorrenze ora sono 31.104 avendo eliminato anche i valori \"NON CLASSIFICATO\" che erano 813\n",
        "df['sezione_regionale'].describe()"
      ],
      "metadata": {
        "id": "9-XnOApJEOtN"
      },
      "execution_count": null,
      "outputs": []
    },
    {
      "cell_type": "code",
      "source": [
        "# modifichiamo i valori della colonna sezione_regionale, rendendoli più leggibili\n",
        "df['sezione_regionale'] = df['sezione_regionale'].map(\n",
        "                            {'SEZIONE REGIONALE LOMBARDIA':'LOMBARDIA',\n",
        "                             'SEZIONE REGIONALE FRIULI VENEZIA GIULIA':'FRIULI VENEZIA GIULIA',\n",
        "                             'SEZIONE REGIONALE CAMPANIA':'CAMPANIA',\n",
        "                             'SEZIONE REGIONALE LIGURIA':'LIGURIA',\n",
        "                             'SEZIONE REGIONALE VENETO':'VENETO',\n",
        "                             'SEZIONE REGIONALE PIEMONTE':'PIEMONTE',\n",
        "                             'SEZIONE REGIONALE CENTRALE':'SEZIONE CENTRALE',\n",
        "                             'SEZIONE REGIONALE UMBRIA':'UMBRIA',\n",
        "                             'SEZIONE REGIONALE SICILIA':'SICILIA',\n",
        "                             'SEZIONE REGIONALE SARDEGNA':'SARDEGNA',\n",
        "                             'SEZIONE REGIONALE PUGLIA':'PUGLIA',\n",
        "                             'SEZIONE REGIONALE TOSCANA':'TOSCANA',\n",
        "                             'SEZIONE REGIONALE MARCHE':'MARCHE', \n",
        "                             'SEZIONE REGIONALE BASILICATA':'BASILICATA', \n",
        "                             'SEZIONE REGIONALE EMILIA ROMAGNA':'EMILIA ROMAGNA', \n",
        "                             'SEZIONE REGIONALE CALABRIA':'CALABRIA', \n",
        "                             'SEZIONE REGIONALE LAZIO':'LAZIO', \n",
        "                             'SEZIONE REGIONALE MOLISE':'MOLISE', \n",
        "                             'SEZIONE REGIONALE ABRUZZO':'ABRUZZO',\n",
        "                             \"SEZIONE REGIONALE VALLE D'AOSTA\":'VALLE D AOSTA',\n",
        "                             'SEZIONE REGIONALE PROVINCIA AUTONOMA DI TRENTO':'PROVINCIA AUTONOMA DI TRENTO',\n",
        "                             'SEZIONE REGIONALE  PROVINCIA AUTONOMA DI BOLZANO':'PROVINCIA AUTONOMA DI BOLZANO'},\n",
        "                             na_action=None\n",
        "                             )"
      ],
      "metadata": {
        "id": "AOcqBffa5D7K"
      },
      "execution_count": null,
      "outputs": []
    },
    {
      "cell_type": "code",
      "source": [
        "#verifichiamo che la sostituzione sia stata effettuata\n",
        "df['sezione_regionale'].unique()"
      ],
      "metadata": {
        "id": "KPv7r56B-o4j"
      },
      "execution_count": null,
      "outputs": []
    },
    {
      "cell_type": "markdown",
      "source": [
        "# **DATA VISUALIZATION: dopo aver pulito inizialmente i dati proviamo a fare qualche grafico che dia una idea della distribuzione del contratti su base regionale e sulla base di altri criteri**"
      ],
      "metadata": {
        "id": "FpVkLtL2TplT"
      }
    },
    {
      "cell_type": "markdown",
      "source": [
        "In merito alle 11 regole della statistica e delle visualizzazione dati, di seguito alcune considerazioni sulle quelle applicabili:\n",
        "1. sarebbe utile confrontare i valori regionali in proporzione al rispettivo territorio e alla popolazione.\n",
        "2. il dataset cig_csv_xxx.csv contiene dati riferiti ad un mese e solo delle attività contrattuali che hanno richiesto l'emissione del codice CIG. Non sono compresi in queste i contratti sottosoglia che hanno richiesto l'emissione del codice SMART CIG.\n",
        "3. la fonte è da considerare attendibile in quanto Autorità Nazionale Anti-Corruzione.\n",
        "4. Il campione è sufficientemente rappresentativo, anche se limitato temporalmente alla produzione di un mese.\n",
        "\n",
        "9. più che effettuare classifiche confrontiamo valori tra le varie voci, valutando la percentuale sul totale.\n",
        "10. la fonte è ANAC.\n"
      ],
      "metadata": {
        "id": "XwYeHpGmRbDa"
      }
    },
    {
      "cell_type": "markdown",
      "source": [
        "## IMPORTI"
      ],
      "metadata": {
        "id": "eJ5hN-ulRWQa"
      }
    },
    {
      "cell_type": "code",
      "source": [
        "\n",
        "# da questa funzione si deduce che l'importo massimo di una gara è di 900M e ci sono gare con importo 0, la media è di circa 3.8M.\n",
        "#i lotti invece hanno una massima numerosità di n.149 e minimo 1, sono in media circa 6. L'importo del lotto massinmo è 534M e possono essere uguale a 0.\n",
        "df.describe()\n"
      ],
      "metadata": {
        "id": "CM0DReZPQRWk"
      },
      "execution_count": null,
      "outputs": []
    },
    {
      "cell_type": "code",
      "source": [
        "# visualizziamo gli importi gara = 0\n",
        "importi_0 = df.importo_complessivo_gara == 0\n",
        "df[importi_0]"
      ],
      "metadata": {
        "id": "wQ09u365Q7hU"
      },
      "execution_count": null,
      "outputs": []
    },
    {
      "cell_type": "markdown",
      "source": [
        "## **visualizziamo gli importi gara = 0, sono n.62, associati a contratti di aziende sanitarie piemontesi e sarde. Potrebbe non essere un errore ed esserci delle ragioni tecnico-amministrative o contabili che giustifichino questo dato a 0. **"
      ],
      "metadata": {
        "id": "i0RCV8pzYRH8"
      }
    },
    {
      "cell_type": "code",
      "source": [
        "#verifichiamo che gli importi siano sopra soglia,\n",
        "importi_sottosoglia = df.importo_complessivo_gara < 40000\n",
        "df[importi_sottosoglia]"
      ],
      "metadata": {
        "id": "paupjCpvK2th"
      },
      "execution_count": null,
      "outputs": []
    },
    {
      "cell_type": "markdown",
      "source": [
        "## nonostante il codice SMART CIG sia dedicato agli importi sottosoglia, ci sono nel file  CIG n. 7.870 importi di gara sottosoglia"
      ],
      "metadata": {
        "id": "7xnSMuDglr2v"
      }
    },
    {
      "cell_type": "code",
      "source": [
        "#totale importo gare\n",
        "df.importo_complessivo_gara.sum()"
      ],
      "metadata": {
        "id": "SAviG2X8t0N5"
      },
      "execution_count": null,
      "outputs": []
    },
    {
      "cell_type": "markdown",
      "source": [
        "##**l'importo complessivo delle gare nel maggio 2022 supera i 118 Miliardi €**"
      ],
      "metadata": {
        "id": "7-lSUyiH0Ybp"
      }
    },
    {
      "cell_type": "markdown",
      "source": [
        "#OGGETTO PRINCIPALE CONTRATTO"
      ],
      "metadata": {
        "id": "00awToqpXmgV"
      }
    },
    {
      "cell_type": "code",
      "source": [
        "# verifichiamo il numero dei contratti per oggetto principale\n",
        "df.oggetto_principale_contratto.value_counts()"
      ],
      "metadata": {
        "id": "sLKsE5D6nFyR"
      },
      "execution_count": null,
      "outputs": []
    },
    {
      "cell_type": "code",
      "source": [
        "#grafico oggetto principale contratto\n",
        "plt.figure(figsize=(20,5))\n",
        "plt.subplot(121)\n",
        "raggr_obj2 = df.groupby('oggetto_principale_contratto')['importo_complessivo_gara']\n",
        "raggr_obj2.count().plot.barh(stacked=True, title=\"OGGETTO PRINCIPALE CONTRATTO PER NUMERO CONTRATTI)\", xlabel=\"\", grid=True)"
      ],
      "metadata": {
        "id": "5JPSyVFXQpN9"
      },
      "execution_count": null,
      "outputs": []
    },
    {
      "cell_type": "markdown",
      "source": [
        "l'oggetto principale del contratto nella sua aggregazione per numeri di contratti ha una prevalenza della tipologia di **FORNITURE**"
      ],
      "metadata": {
        "id": "WncZd3-FnX3Y"
      }
    },
    {
      "cell_type": "code",
      "source": [
        "# verifichiamo gli importi dei contratti per oggetto principale\n",
        "raggr_obj= df.groupby('oggetto_principale_contratto')['importo_complessivo_gara']\n",
        "raggr_obj.sum().sort_values(ascending=False)\n"
      ],
      "metadata": {
        "id": "eRZFeysVo6qg"
      },
      "execution_count": null,
      "outputs": []
    },
    {
      "cell_type": "code",
      "source": [
        "#grafico oggetto principale contratto\n",
        "plt.figure(figsize=(20,5))\n",
        "plt.subplot(122)\n",
        "raggr_obj3 = df.groupby('oggetto_principale_contratto')['importo_complessivo_gara']\n",
        "raggr_obj3.sum().plot.barh(stacked=True, title=\"OGGETTO PRINCIPALE CONTRATTO PER IMPORTO CONTRATTI - unità 10 Miliardi €\", xlabel=\"\", grid=True)"
      ],
      "metadata": {
        "id": "Rt_fNVBX0yxZ"
      },
      "execution_count": null,
      "outputs": []
    },
    {
      "cell_type": "markdown",
      "source": [
        "l'importo delle gare relativo alle forniture (77 Miliardi €) è nettamente superiore alla somma delle altre due tipologie (servizi e lavori). E' evidente che le commesse relative alle forniture hanno importi mediamente più alti."
      ],
      "metadata": {
        "id": "O6a2AHi5y5p5"
      }
    },
    {
      "cell_type": "markdown",
      "source": [
        "##SCELTA CONTRAENTE"
      ],
      "metadata": {
        "id": "mqoZxyC-RlCr"
      }
    },
    {
      "cell_type": "code",
      "source": [
        "# verifichiamo il numero di contratti per tipo scelta contraente\n",
        "df.tipo_scelta_contraente.value_counts()"
      ],
      "metadata": {
        "id": "cX3bvWynVr1t"
      },
      "execution_count": null,
      "outputs": []
    },
    {
      "cell_type": "code",
      "source": [
        "#grafico scelta contraente per numero contratti\n",
        "plt.figure(figsize=(20,15))\n",
        "plt.subplot(121)\n",
        "raggr_obj2 = df.groupby('tipo_scelta_contraente')['importo_complessivo_gara']\n",
        "raggr_obj2.count().sort_values(ascending=True).plot.barh(stacked=True, title=\"SCELTA CONTRAENTE PER NUMERO DI CONTRATTI\", xlabel=\"\", grid=True)"
      ],
      "metadata": {
        "id": "T770xYyA2zZD"
      },
      "execution_count": null,
      "outputs": []
    },
    {
      "cell_type": "markdown",
      "source": [
        "nel periodo analizzato le procedure prevalenti per la scelta del contraente sono:\n",
        "> **AFFIDAMENTO DIRETTO**  \n",
        "> **AFFIDAMENTO DIRETTO** IN ADESIONE AD ACCORDO QUADROCONVENZIONE                                   \n",
        "> PROCEDURA NEGOZIATA PER AFFIDAMENTI SOTTOSOGLIA        \n",
        "PROCEDURA APERTA               "
      ],
      "metadata": {
        "id": "Jk2OhYRMYzW9"
      }
    },
    {
      "cell_type": "code",
      "source": [
        "# verifichiamo gli importi dei contratti per tipo scelta contraente\n",
        "raggr_obj= df.groupby('tipo_scelta_contraente')['importo_complessivo_gara']\n",
        "raggr_obj.sum().sort_values(ascending=False)"
      ],
      "metadata": {
        "id": "GMCTjuUL1szY"
      },
      "execution_count": null,
      "outputs": []
    },
    {
      "cell_type": "code",
      "source": [
        "#grafico scelta contraente per importo contratti\n",
        "plt.figure(figsize=(20,15))\n",
        "plt.subplot(122)\n",
        "raggr_obj3 = df.groupby('tipo_scelta_contraente')['importo_complessivo_gara']\n",
        "raggr_obj3.sum().sort_values(ascending=True).plot.barh(stacked=True, title=\"SCELTA CONTRAENTE PER IMPORTO CONTRATTI - unità 10 Miliardi €\", xlabel=\"\", grid=True)"
      ],
      "metadata": {
        "id": "FYm7BDQQJtNX"
      },
      "execution_count": null,
      "outputs": []
    },
    {
      "cell_type": "markdown",
      "source": [
        "interessante notare che guardando gli importi la \"**PROCEDURA APERTA**\", risultata quarta come numerosità, ha un valore totale molto alto (82.5 Miliardi €), 2/3 del totale."
      ],
      "metadata": {
        "id": "1a0K49ql2DTa"
      }
    },
    {
      "cell_type": "markdown",
      "source": [
        "##MODALITA' REALIZZAZIONE"
      ],
      "metadata": {
        "id": "jk7kL37USAYj"
      }
    },
    {
      "cell_type": "code",
      "source": [
        "# verifichiamo il numero di contratti per modalità realizzazione\n",
        "df.modalita_realizzazione.value_counts()"
      ],
      "metadata": {
        "id": "0MJsmGiKkqPW"
      },
      "execution_count": null,
      "outputs": []
    },
    {
      "cell_type": "code",
      "source": [
        "#grafico modalità realizzazione per numero contratti\n",
        "plt.figure(figsize=(20,15))\n",
        "plt.subplot(121)\n",
        "raggr_obj2 = df.groupby('modalita_realizzazione')['importo_complessivo_gara']\n",
        "raggr_obj2.count().sort_values(ascending=True).plot.barh(stacked=True, title=\"MODALITA REALIZZAZIONE PER NUMERO DI CONTRATTI\", xlabel=\"\", grid=True)"
      ],
      "metadata": {
        "id": "OZgrzqki5Su8"
      },
      "execution_count": null,
      "outputs": []
    },
    {
      "cell_type": "markdown",
      "source": [
        "la maggior parte, circa 70/75%, dei contratti sono realizzati con due modalità \"**CONTRATTO D'APPALTO**\" e \"**CONTRATTO D'APPALTO DISCENDENTE DA ACCORDO QUADRO/CONVENZIONE SENZA SUCCESSIVO CONFRONTO COMPETITIVO**\" "
      ],
      "metadata": {
        "id": "McClNBpRmEXP"
      }
    },
    {
      "cell_type": "code",
      "source": [
        "# verifichiamo gli importi dei contratti per modalità realizzazione\n",
        "raggr_obj= df.groupby('modalita_realizzazione')['importo_complessivo_gara']\n",
        "raggr_obj.sum().sort_values(ascending=False)"
      ],
      "metadata": {
        "id": "DtBvUYyc3Njq"
      },
      "execution_count": null,
      "outputs": []
    },
    {
      "cell_type": "code",
      "source": [
        "#grafico modalità realizzazione per importo contratti\n",
        "plt.figure(figsize=(20,15))\n",
        "plt.subplot(122)\n",
        "raggr_obj3 = df.groupby('modalita_realizzazione')['importo_complessivo_gara']\n",
        "raggr_obj3.sum().sort_values(ascending=True).plot.barh(stacked=True, title=\"MODALITA REALIZZAZIONE PER IMPORTO CONTRATTI - unità 10 Miliardi €\", xlabel=\"\", grid=True)"
      ],
      "metadata": {
        "id": "Qz_gvxgCYh5O"
      },
      "execution_count": null,
      "outputs": []
    },
    {
      "cell_type": "markdown",
      "source": [
        "anche dagli importi delle modalità di realizzazione della gara si può dedurre che l'**ACCORDO QUADRO** pur non avendo un numerosità alta, rappresenta con quasi 55 Miliardi € quasi il 50% dell'importo totale. Anche la **CONVENZIONE** consta di più di 21 Miliardi a fronte di circa 800 contratti. "
      ],
      "metadata": {
        "id": "ScxwYLDU4Ila"
      }
    },
    {
      "cell_type": "markdown",
      "source": [
        "#SUDDIVISIONE PER REGIONI"
      ],
      "metadata": {
        "id": "lhbfk6bHXvos"
      }
    },
    {
      "cell_type": "code",
      "source": [
        "# sommiamo il numero di contratti per regione\n",
        "df.sezione_regionale.value_counts()\n"
      ],
      "metadata": {
        "id": "QB-hxbQLwcjI"
      },
      "execution_count": null,
      "outputs": []
    },
    {
      "cell_type": "code",
      "source": [
        "#grafico suddiviso per regioni per numero contratti\n",
        "plt.figure(figsize=(20,15))\n",
        "plt.subplot(121)\n",
        "raggr_obj2 = df.groupby('sezione_regionale')['importo_complessivo_gara']\n",
        "raggr_obj2.count().sort_values(ascending=True).plot.barh(stacked=True, title=\"SUDDIVISIONE REGIONALE PER NUMERO DI CONTRATTI\", xlabel=\"\", grid=True)"
      ],
      "metadata": {
        "id": "RnEEuzXm6H2q"
      },
      "execution_count": null,
      "outputs": []
    },
    {
      "cell_type": "code",
      "source": [
        "# confrontiamo in tabella le regioni per importo in Euro complessivo di gara. \n",
        "raggr_reg= df.groupby('sezione_regionale')['importo_complessivo_gara']\n",
        "raggr_reg.sum().sort_values(ascending=False)"
      ],
      "metadata": {
        "id": "vvS7h6s44Y76"
      },
      "execution_count": null,
      "outputs": []
    },
    {
      "cell_type": "code",
      "source": [
        "#grafico suddiviso per regioni per importo contratti\n",
        "plt.figure(figsize=(20,15))\n",
        "plt.subplot(122)\n",
        "raggr_obj3 = df.groupby('sezione_regionale')['importo_complessivo_gara']\n",
        "raggr_obj3.sum().sort_values(ascending=True).plot.barh(stacked=True, title=\"SUDDIVISIONE REGIONALE PER IMPORTO CONTRATTI - unità Miliardo di €\", xlabel=\"\", grid=True)"
      ],
      "metadata": {
        "id": "efPD5GA6ajdK"
      },
      "execution_count": null,
      "outputs": []
    },
    {
      "cell_type": "markdown",
      "source": [
        "Le **regioni Piemonte e Lombardia** hanno numeri di contratti nettamente superiore, in ragione anche delle dimensioni. Molto elevato è il numero di contratti nell'ambito delle PA centrali, n.5.190.\n",
        "Se valutiamo l'importo complessivo, il procurement centrale ha il primato seguito a ruota dalla **Regione Toscana** con quasi 23 miliardi di €. Le altri regioni che superano i 10 miliardi di € sono l**'Abruzzo, la Sicilia, il Lazio e la Campania**. \n"
      ],
      "metadata": {
        "id": "mCoKQlTvlZIt"
      }
    }
  ]
}